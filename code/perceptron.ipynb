{
 "cells": [
  {
   "cell_type": "markdown",
   "metadata": {},
   "source": [
    "# The Perceptron algorithm, Part 2\n",
    "\n",
    "In this part 2 of the assignment, you will implement the following:\n",
    "\n",
    "1. The Kernel Perceptron training and evaluation procedures.\n",
    "\n",
    "2. Implement the quadratic kernel.\n",
    "\n",
    "3. Show empirically that the Kernel Perceptron converges on the XOR dataset.\n",
    "\n",
    "4. Bonus points."
   ]
  },
  {
   "cell_type": "markdown",
   "metadata": {},
   "source": [
    "## Write Your Name Here: Jay Yadav\n"
   ]
  },
  {
   "cell_type": "markdown",
   "metadata": {},
   "source": [
    "# <font color=\"blue\"> Submission Instructions</font>\n",
    "\n",
    "1. Click the Save button at the top of the Jupyter Notebook.\n",
    "2. Please make sure to have entered your name above.\n",
    "3. Select Cell -> All Output -> Clear. This will clear all the outputs from all cells (but will keep the content of ll cells). \n",
    "4. Select Cell -> Run All. This will run all the cells in order, and will take several minutes.\n",
    "5. Once you've rerun everything, select File -> Download as -> PDF via LaTeX and download a PDF version *perceptron.pdf* showing the code and the output of all cells, and save it in the same folder that contains the notebook file *perceptron.ipynb*.\n",
    "6. Look at the PDF file and make sure all your solutions are there, displayed correctly. The PDF is the only thing we will see when grading!\n",
    "7. Submit **both** your PDF and notebook on Canvas."
   ]
  },
  {
   "cell_type": "code",
   "execution_count": 1,
   "metadata": {},
   "outputs": [],
   "source": [
    "import numpy as np\n",
    "import utils\n",
    "\n",
    "np.random.seed(1)"
   ]
  },
  {
   "cell_type": "markdown",
   "metadata": {},
   "source": [
    "## 1. The Perceptron algorithm (from Part 1)\n",
    "\n",
    "Copy here from Part 1 the implementation of the training procedure for the Perceptron algorithm.\n",
    "\n",
    "The training algorithm runs for the specified number of epochs or until convergence, whichever happens first. The algorithm converged when it makes no mistake on the training examples. If the algorithm converged, display a message \"Converged in \\<e\\> epochs!'."
   ]
  },
  {
   "cell_type": "code",
   "execution_count": 2,
   "metadata": {},
   "outputs": [],
   "source": [
    "def train(X, y, E, w_vectors):\n",
    "    \"\"\"Perceptron training function.\n",
    "    Args:\n",
    "        X (np.ndarray): A 2D array training instances, one per row.\n",
    "        y (np.ndarray): A vector of labels.\n",
    "        E (int): the maximum number of epochs.\n",
    "        \n",
    "    Returns:\n",
    "        np.ndarray: The learned vector of weights / parameters.\n",
    "    \"\"\"\n",
    "    # Add bias feature to X.\n",
    "   # X = np.column_stack((np.ones(len(X)), X))\n",
    "    \n",
    "    # Initialize w wtih zero's.\n",
    "    w = np.zeros(X.shape[1])\n",
    "    \n",
    "    counter = 0\n",
    "    e = 0\n",
    "    while (e < E and counter != len(X)):\n",
    "        counter = 0\n",
    "        for i in range(len(X)):\n",
    "            h = w @ X[i]\n",
    "            if h * y[i] <= 0:\n",
    "                w = w + y[i]*X[i]\n",
    "            else:\n",
    "                counter+=1\n",
    "        w_vectors.append(w)\n",
    "        e+=1\n",
    "    if counter == len(X):\n",
    "        print('Converged in ', e, ' epochs!')\n",
    "    return w"
   ]
  },
  {
   "cell_type": "markdown",
   "metadata": {},
   "source": [
    "Implement the Perceptron prediction function that takes as input the Perceptron parameters w and returns a vector with the labels (+1 or -1) predicted for the test examples in input data."
   ]
  },
  {
   "cell_type": "code",
   "execution_count": 3,
   "metadata": {},
   "outputs": [],
   "source": [
    "def perceptron_test(X, w):\n",
    "    \"\"\"Perceptron prediction function.\n",
    "    Args:\n",
    "        X (np.ndarray): A 2D array training instances, one per row.\n",
    "        w (np.ndarray): A vector of parameters.\n",
    "\n",
    "        \n",
    "    Returns:\n",
    "        np.ndarray: The vector of predicted labels.\n",
    "    \"\"\"\n",
    "    # Add bias feature to X.\n",
    "    X = np.column_stack((np.ones(len(X)), X))\n",
    "    \n",
    "    # Compute the perceptron predictions on the examples in X. \n",
    "    pred = X@w\n",
    "\n",
    "    for i in range(len(pred)):\n",
    "        if pred[i] > 0:\n",
    "            pred[i] = 1\n",
    "        else:\n",
    "            pred[i] = -1\n",
    "        \n",
    "    return pred"
   ]
  },
  {
   "cell_type": "markdown",
   "metadata": {},
   "source": [
    "## 2. The Kernel Perceptron\n",
    "\n",
    "Implement the training procedure for the Kernel Perceptron algorithm.\n",
    "\n",
    "The algorithm runs for the specified number of epochs or until convergence, whichever happens first. The algorithm converged when it makes no mistake on the training examples. If the algorithm converged, display a message \"Converged in \\<e\\> epochs!'.\n",
    "\n",
    "Return the learned vector of dual parameters alpha."
   ]
  },
  {
   "cell_type": "code",
   "execution_count": 4,
   "metadata": {},
   "outputs": [],
   "source": [
    "def kperceptron_train(X, y, E, K):\n",
    "    \"\"\"Kernel Perceptron training function.\n",
    "    Args:\n",
    "        X (np.ndarray): A 2D array training instances, one per row.\n",
    "        y (np.ndarray): A vector of labels.\n",
    "        E (int): the maximum number of epochs.\n",
    "        K (function): the kernel function.\n",
    "        \n",
    "    Returns:\n",
    "        np.ndarray: The learned vector of dual parameters.\n",
    "    \"\"\"\n",
    "    \n",
    "    # Initialize dual parameters alpha with zero's.\n",
    "    alpha = np.zeros(len(X))\n",
    "    \n",
    "    \n",
    "    counter = 0\n",
    "    e = 0\n",
    "    while (e < E and counter != len(X)):\n",
    "        counter = 0\n",
    "        for k in range(len(X)):\n",
    "            sum1 = 0\n",
    "            for n in range(len(X)):\n",
    "                sum1 += alpha[n] * y[n] * (K(X[n], X[k]))\n",
    "            sign = np.sign(sum1)\n",
    "            if (sign != y[k]):\n",
    "                alpha[k] += 1\n",
    "            else:\n",
    "                counter+=1\n",
    "        e+=1\n",
    "    if counter == len(X):\n",
    "        print('Converged in ', e, ' epochs!')   \n",
    "    return alpha"
   ]
  },
  {
   "cell_type": "markdown",
   "metadata": {},
   "source": [
    "Write a function that takes as input the set of training examples, their labels, and the trained dual parameters, and return a tuple containing:\n",
    "\n",
    "1. the support vectors;\n",
    "\n",
    "2. their labels;\n",
    "\n",
    "3. their dual parameters. \n",
    "\n",
    "Remember, support vectors are training examples for which the corresponding dual parameter alpha is non-zero."
   ]
  },
  {
   "cell_type": "code",
   "execution_count": 5,
   "metadata": {},
   "outputs": [],
   "source": [
    "def support_vectors(X, y, alpha):\n",
    "    \"\"\"Select support vectors.\n",
    "    Args:\n",
    "        X (np.ndarray): A 2D array training instances, one per row.\n",
    "        y (np.ndarray): A vector of labels.\n",
    "        alpha (np.ndarray): The vector of dual parameters.\n",
    "        \n",
    "    Returns:\n",
    "        X_s, y_s, alpha_s: The support vectors, their labels, and their dual parameters.\n",
    "    \"\"\"\n",
    "    \n",
    "    \n",
    "            \n",
    "    \n",
    "    X_s = X[alpha != 0]\n",
    "            \n",
    "    y_s = np.array([])\n",
    "    \n",
    "    for j in range(len(y)):\n",
    "        if (alpha[j] != 0):\n",
    "            y_s=np.append(y_s, y[j])\n",
    "    \n",
    "    \n",
    "    alpha_s = np.array([])\n",
    "    \n",
    "    for k in range(len(alpha)):\n",
    "        if (alpha[k] != 0):\n",
    "            alpha_s=np.append(alpha_s, alpha[k])\n",
    "    \n",
    "    return (X_s, y_s, alpha_s)"
   ]
  },
  {
   "cell_type": "markdown",
   "metadata": {},
   "source": [
    "Implement the Kernel Perceptron prediction function that takes as input the Kernel Perceptron dual parameters alpha, support vectors, their labels, and the kernel, and returns a vector with the labels (+1 or -1) predicted for the test examples."
   ]
  },
  {
   "cell_type": "code",
   "execution_count": 6,
   "metadata": {},
   "outputs": [],
   "source": [
    "def kperceptron_test(X_s, y_s, alpha_s, K, X):\n",
    "    \"\"\"Kernel Perceptron prediction function.\n",
    "    Args:\n",
    "        X_s (np.ndarray): A 2D array of support vectors, one per row.\n",
    "        y_s (np.ndarray): The vector of labels corresponding to the support vectors.\n",
    "        alpha_S (np.ndarray): The vector of dual parameters for the support vectors.\n",
    "        K (function): the kernel function.\n",
    "\n",
    "        X (np.ndarray): A 2D array of test instances, one per row.\n",
    "        \n",
    "    Returns:\n",
    "        np.ndarray: The vector of predicted labels for the test instances.\n",
    "    \"\"\"\n",
    "    \n",
    "    # Compute the kernel perceptron predictions on the examples in X. \n",
    "    # YOUR CODE HERE\n",
    "    pred = np.zeros(len(X))\n",
    "    \n",
    "    for k in range(len(X)):\n",
    "        sum1 = 0\n",
    "        for n in range(len(X_s)):\n",
    "            sum1 += alpha_s[n] * y_s[n] * (K(X_s[n], X[k]))\n",
    "        if sum1 <= 0:\n",
    "            pred[k] = -1\n",
    "        else:\n",
    "            pred[k] = 1\n",
    "        \n",
    "    return pred"
   ]
  },
  {
   "cell_type": "markdown",
   "metadata": {},
   "source": [
    "Here is my implementation of the linear kernel $K(x,y) = 1 + x^T y$"
   ]
  },
  {
   "cell_type": "code",
   "execution_count": 7,
   "metadata": {},
   "outputs": [],
   "source": [
    "def linear_kernel(x, y):\n",
    "    return 1 + x @ y"
   ]
  },
  {
   "cell_type": "markdown",
   "metadata": {},
   "source": [
    "Implement the quadratic kernel $K(x, y) = (1 + x^T y)^2$."
   ]
  },
  {
   "cell_type": "code",
   "execution_count": 8,
   "metadata": {},
   "outputs": [],
   "source": [
    "def quadratic_kernel(x, y):\n",
    "    # YOUR CODE HERE\n",
    "    result = (1 + x@y)**2\n",
    "    return result"
   ]
  },
  {
   "cell_type": "markdown",
   "metadata": {},
   "source": [
    "## 3.  Let's experiment with the XOR dataset and the two perceptron algorithms."
   ]
  },
  {
   "cell_type": "code",
   "execution_count": 9,
   "metadata": {},
   "outputs": [],
   "source": [
    "# Create a more complex XOR dataset, with N points clustered around each of the 4 'corners'\n",
    "def xor_dataset(N):\n",
    "    \"\"\"Generate XOR dataset.\n",
    "    Args:\n",
    "        N: number of points per example cluster.\n",
    "        \n",
    "    Returns:\n",
    "        X: A 2D array with examples, one per line.\n",
    "        y: A vector of labels.\n",
    "    \"\"\"\n",
    "    X00 = (0, 0) + (np.random.sample((N, 2)) - 0.5) / 4\n",
    "    y00 = np.full((N,), -1)\n",
    "    X01 = (0, 1) + (np.random.sample((N, 2)) - 0.5) / 4\n",
    "    y01 = np.full((N,), +1)\n",
    "    X10 = (1, 0) + (np.random.sample((N, 2)) - 0.5) / 4\n",
    "    y10 = np.full((N,), +1)\n",
    "    X11 = (1, 1) + (np.random.sample((N, 2)) - 0.5) / 4\n",
    "    y11 = np.full((N,), -1)\n",
    "    \n",
    "    X = np.row_stack((X00, X01, X10, X11))\n",
    "    y = np.concatenate((y00, y01, y10, y11))\n",
    "    \n",
    "    return X, y"
   ]
  },
  {
   "cell_type": "code",
   "execution_count": 10,
   "metadata": {},
   "outputs": [
    {
     "data": {
      "text/plain": [
       "<matplotlib.collections.PathCollection at 0x7fbc8aae52b0>"
      ]
     },
     "execution_count": 10,
     "metadata": {},
     "output_type": "execute_result"
    },
    {
     "data": {
      "image/png": "[encoded data removed]",
      "text/plain": [
       "<Figure size 432x288 with 1 Axes>"
      ]
     },
     "metadata": {},
     "output_type": "display_data"
    }
   ],
   "source": [
    "X, y = xor_dataset(5)\n",
    "\n",
    "import matplotlib.pyplot as plt\n",
    "plt.style.use('fivethirtyeight')\n",
    "\n",
    "plt.scatter(X[:,0], X[:,1], c = y)"
   ]
  },
  {
   "cell_type": "markdown",
   "metadata": {},
   "source": [
    "Let's train the Kernel Perceptron algorithm with the quadratic kernel for up to 50 epochs and evaluate its accuracy on a new set of test examples."
   ]
  },
  {
   "cell_type": "code",
   "execution_count": 11,
   "metadata": {
    "scrolled": false
   },
   "outputs": [
    {
     "name": "stdout",
     "output_type": "stream",
     "text": [
      "Converged in  7  epochs!\n",
      "alpha = [4. 0. 1. 0. 0. 4. 0. 0. 0. 0. 3. 0. 0. 1. 0. 4. 0. 0. 0. 0.]\n",
      "Found 6 support vectors out of 20 training examples.\n"
     ]
    }
   ],
   "source": [
    "# Train the kernel perceptron\n",
    "E = 50\n",
    "alpha = kperceptron_train(X, y, E, quadratic_kernel)\n",
    "print('alpha =', alpha)\n",
    "\n",
    "# Find the support vectors.\n",
    "X_s, y_s, alpha_s = support_vectors(X, y, alpha)\n",
    "print('Found', alpha_s.size, 'support vectors out of', alpha.size, 'training examples.')\n",
    "\n",
    "# Test the kernel perceptron on a new set of test examples.\n",
    "X_test, y_test = xor_dataset(2)\n",
    "predictions = kperceptron_test(X_s, y_s, alpha_s, quadratic_kernel, X_test)"
   ]
  },
  {
   "cell_type": "markdown",
   "metadata": {},
   "source": [
    "Write code to compute the accuracy of the Kernel Perceptron on the test examples."
   ]
  },
  {
   "cell_type": "code",
   "execution_count": 12,
   "metadata": {},
   "outputs": [
    {
     "name": "stdout",
     "output_type": "stream",
     "text": [
      "Accuracy on test examples is: 0.875\n"
     ]
    }
   ],
   "source": [
    "# YOUR CODE HERE\n",
    "count = 0\n",
    "for i in range(len(predictions)):\n",
    "    if (predictions[i] == y_test[i]):\n",
    "        count += 1\n",
    "\n",
    "accuracy = (count/len(y_test))\n",
    "print('Accuracy on test examples is:', accuracy)"
   ]
  },
  {
   "cell_type": "markdown",
   "metadata": {},
   "source": [
    "## 4. Bonus points\n",
    "\n",
    "A. Here, train the Perceptron algorithm on the XOR dataset, using the feature space corresponding to the quadratic kernel.\n",
    "\n",
    "B. Empirically show that the trained weight vector is equal with the weighted sum of the support vectors (slide 39) that were trained by the Kernel Perceptron on the same dataset."
   ]
  },
  {
   "cell_type": "code",
   "execution_count": 13,
   "metadata": {},
   "outputs": [],
   "source": [
    "def project_features(X):\n",
    "    # Project the examples in X, which contain only 2 features x and y, into the feature space\n",
    "    #     corresponding to the quadratic kernel shown on slide 45, i.e. from 2 to 6 features.\n",
    "    # Return the array of the new examples, each containing 6 features.\n",
    "    feature_1 = np.ones(len(X))\n",
    "    feature_2 = (np.sqrt(2)) * X[:, 0]\n",
    "    feature_3 = (np.sqrt(2)) * X[:, 1]\n",
    "    feature_4 = (X[:, 0])**2\n",
    "    feature_5 = (np.sqrt(2)) * X[:, 0] * X[:, 1]\n",
    "    feature_6 = (X[:, 1])**2\n",
    "    kernel = np.column_stack((feature_1, feature_2, feature_3, feature_4, feature_5, feature_6))\n",
    "    \n",
    "    return kernel\n",
    "    "
   ]
  },
  {
   "cell_type": "code",
   "execution_count": 14,
   "metadata": {},
   "outputs": [
    {
     "name": "stdout",
     "output_type": "stream",
     "text": [
      "Converged in  7  epochs!\n",
      "[-1.          0.86826516  0.53975244  1.02644682 -4.72634945  0.56711418]\n"
     ]
    }
   ],
   "source": [
    "# Train the perceptron on the projected version of the XOR dataset, using the 6 features.\n",
    "Xnew = project_features(X)\n",
    "E = 50\n",
    "w_vect =[]\n",
    "w = train(Xnew, y, E, w_vect)\n",
    "print(w)"
   ]
  },
  {
   "cell_type": "code",
   "execution_count": 15,
   "metadata": {},
   "outputs": [
    {
     "name": "stdout",
     "output_type": "stream",
     "text": [
      "Converged in  7  epochs!\n",
      "[-1.          0.86826516  0.53975244  1.02644682 -4.72634945  0.56711418]\n"
     ]
    }
   ],
   "source": [
    "# Compute the weighted sum of the support vectors (slide 39) using X_s, y_s, alpha_s.\n",
    "alpha = kperceptron_train(X, y, E, quadratic_kernel)\n",
    "\n",
    "X_s, y_s, alpha_s = support_vectors(Xnew, y, alpha)\n",
    "wt = np.zeros(len(X_s))\n",
    "\n",
    "j = 0\n",
    "while j<len(X_s):\n",
    "    wt = wt + X_s[j] * alpha_s[j] * y_s[j]\n",
    "    j += 1\n",
    "    \n",
    "    \n",
    "\n",
    "    \n",
    "\n",
    "\n",
    "# Compare with w printed above. They should be the same.\n",
    "print(wt)"
   ]
  },
  {
   "cell_type": "markdown",
   "metadata": {},
   "source": [
    "## 5. Anything extra goes here."
   ]
  },
  {
   "cell_type": "code",
   "execution_count": null,
   "metadata": {},
   "outputs": [],
   "source": []
  },
  {
   "cell_type": "code",
   "execution_count": null,
   "metadata": {},
   "outputs": [],
   "source": []
  },
  {
   "cell_type": "code",
   "execution_count": null,
   "metadata": {},
   "outputs": [],
   "source": []
  }
 ],
 "metadata": {
  "kernelspec": {
   "display_name": "Python 3",
   "language": "python",
   "name": "python3"
  },
  "language_info": {
   "codemirror_mode": {
    "name": "ipython",
    "version": 3
   },
   "file_extension": ".py",
   "mimetype": "text/x-python",
   "name": "python",
   "nbconvert_exporter": "python",
   "pygments_lexer": "ipython3",
   "version": "3.8.3"
  }
 },
 "nbformat": 4,
 "nbformat_minor": 2
}
